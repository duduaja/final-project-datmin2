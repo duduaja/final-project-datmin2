{
 "cells": [
  {
   "cell_type": "code",
   "execution_count": 1,
   "metadata": {},
   "outputs": [],
   "source": [
    "import pandas as pd\n",
    "import numpy as np\n"
   ]
  },
  {
   "cell_type": "code",
   "execution_count": 2,
   "metadata": {},
   "outputs": [],
   "source": [
    "class CONFIG:\n",
    "    SRC_PATH = '../capture/cropped/'\n",
    "    OUT_PATH = '../capture/augmented/'\n",
    "\n",
    "    AWAKE_DATA_PATH = '../capture/augmented/awake/'\n",
    "    DROWSY_DATA_PATH = '../capture/augmented/drowsy/'\n",
    "    "
   ]
  },
  {
   "cell_type": "code",
   "execution_count": null,
   "metadata": {},
   "outputs": [],
   "source": [
    "#Load data\n",
    "df = pd.read_csv('')"
   ]
  },
  {
   "cell_type": "code",
   "execution_count": null,
   "metadata": {},
   "outputs": [],
   "source": [
    "# TensorFlow. 'x' = A placeholder for an image.\n",
    "shape = []\n",
    "x = tf.placeholder(dtype = tf.float32, shape = shape)\n",
    "flip_2 = tf.image.flip_up_down(x)\n",
    "flip_3 = tf.image.flip_left_right(x)\n",
    "flip_4 = tf.image.random_flip_up_down(x)\n",
    "flip_5 = tf.image.random_flip_left_right(x)"
   ]
  }
 ],
 "metadata": {
  "kernelspec": {
   "display_name": "Python 3",
   "language": "python",
   "name": "python3"
  },
  "language_info": {
   "codemirror_mode": {
    "name": "ipython",
    "version": 3
   },
   "file_extension": ".py",
   "mimetype": "text/x-python",
   "name": "python",
   "nbconvert_exporter": "python",
   "pygments_lexer": "ipython3",
   "version": "3.9.0"
  },
  "orig_nbformat": 4,
  "vscode": {
   "interpreter": {
    "hash": "005f91c35f334889d9bcc0108a4280eae9719191ea748edfbbff9620a71a3376"
   }
  }
 },
 "nbformat": 4,
 "nbformat_minor": 2
}
