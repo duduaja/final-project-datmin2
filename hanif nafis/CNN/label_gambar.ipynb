{
 "cells": [
  {
   "cell_type": "code",
   "execution_count": 1,
   "metadata": {},
   "outputs": [],
   "source": [
    "import os\n",
    "import fnmatch\n",
    "import matplotlib.pyplot as plt\n",
    "import numpy as np\n",
    "import PIL\n",
    "import tensorflow as tf\n",
    "\n",
    "from tensorflow import keras\n",
    "from tensorflow.keras import layers\n",
    "from tensorflow.keras.models import Sequential"
   ]
  },
  {
   "cell_type": "code",
   "execution_count": 2,
   "metadata": {},
   "outputs": [
    {
     "ename": "ValueError",
     "evalue": "Please specify the \"origin\" argument (URL of the file to download).",
     "output_type": "error",
     "traceback": [
      "\u001b[1;31m---------------------------------------------------------------------------\u001b[0m",
      "\u001b[1;31mValueError\u001b[0m                                Traceback (most recent call last)",
      "Cell \u001b[1;32mIn [2], line 3\u001b[0m\n\u001b[0;32m      1\u001b[0m \u001b[39mimport\u001b[39;00m \u001b[39mpathlib\u001b[39;00m\n\u001b[0;32m      2\u001b[0m \u001b[39m#dataset_url = \"https://storage.googleapis.com/download.tensorflow.org/example_images/flower_photos.tgz\"\u001b[39;00m\n\u001b[1;32m----> 3\u001b[0m data_dir \u001b[39m=\u001b[39m tf\u001b[39m.\u001b[39;49mkeras\u001b[39m.\u001b[39;49mutils\u001b[39m.\u001b[39;49mget_file(\u001b[39m'\u001b[39;49m\u001b[39m../capture/ur_capture\u001b[39;49m\u001b[39m'\u001b[39;49m)\n\u001b[0;32m      4\u001b[0m data_dir \u001b[39m=\u001b[39m pathlib\u001b[39m.\u001b[39mPath(data_dir)\n",
      "File \u001b[1;32mc:\\Users\\Hanif\\anaconda3\\envs\\tf\\lib\\site-packages\\keras\\utils\\data_utils.py:210\u001b[0m, in \u001b[0;36mget_file\u001b[1;34m(fname, origin, untar, md5_hash, file_hash, cache_subdir, hash_algorithm, extract, archive_format, cache_dir)\u001b[0m\n\u001b[0;32m    160\u001b[0m \u001b[39m\"\"\"Downloads a file from a URL if it not already in the cache.\u001b[39;00m\n\u001b[0;32m    161\u001b[0m \n\u001b[0;32m    162\u001b[0m \u001b[39mBy default the file at the url `origin` is downloaded to the\u001b[39;00m\n\u001b[1;32m   (...)\u001b[0m\n\u001b[0;32m    207\u001b[0m \u001b[39m    Path to the downloaded file\u001b[39;00m\n\u001b[0;32m    208\u001b[0m \u001b[39m\"\"\"\u001b[39;00m\n\u001b[0;32m    209\u001b[0m \u001b[39mif\u001b[39;00m origin \u001b[39mis\u001b[39;00m \u001b[39mNone\u001b[39;00m:\n\u001b[1;32m--> 210\u001b[0m   \u001b[39mraise\u001b[39;00m \u001b[39mValueError\u001b[39;00m(\u001b[39m'\u001b[39m\u001b[39mPlease specify the \u001b[39m\u001b[39m\"\u001b[39m\u001b[39morigin\u001b[39m\u001b[39m\"\u001b[39m\u001b[39m argument (URL of the file \u001b[39m\u001b[39m'\u001b[39m\n\u001b[0;32m    211\u001b[0m                    \u001b[39m'\u001b[39m\u001b[39mto download).\u001b[39m\u001b[39m'\u001b[39m)\n\u001b[0;32m    213\u001b[0m \u001b[39mif\u001b[39;00m cache_dir \u001b[39mis\u001b[39;00m \u001b[39mNone\u001b[39;00m:\n\u001b[0;32m    214\u001b[0m   cache_dir \u001b[39m=\u001b[39m os\u001b[39m.\u001b[39mpath\u001b[39m.\u001b[39mjoin(os\u001b[39m.\u001b[39mpath\u001b[39m.\u001b[39mexpanduser(\u001b[39m'\u001b[39m\u001b[39m~\u001b[39m\u001b[39m'\u001b[39m), \u001b[39m'\u001b[39m\u001b[39m.keras\u001b[39m\u001b[39m'\u001b[39m)\n",
      "\u001b[1;31mValueError\u001b[0m: Please specify the \"origin\" argument (URL of the file to download)."
     ]
    }
   ],
   "source": [
    "import pathlib\n",
    "#dataset_url = \"https://storage.googleapis.com/download.tensorflow.org/example_images/flower_photos.tgz\"\n",
    "data_dir = tf.keras.utils.get_file('../capture/ur_capture')\n",
    "data_dir = pathlib.Path(data_dir)"
   ]
  },
  {
   "cell_type": "code",
   "execution_count": 2,
   "metadata": {},
   "outputs": [],
   "source": [
    "def load_file(folder_name, file_names):\n",
    "    data=[]\n",
    "    for file_name in file_names:\n",
    "        img_file = folder_name+file_name\n",
    "        data.append(img_file)\n",
    "    return data"
   ]
  },
  {
   "cell_type": "code",
   "execution_count": 10,
   "metadata": {},
   "outputs": [
    {
     "name": "stdout",
     "output_type": "stream",
     "text": [
      "['awake', 'drowsy']\n"
     ]
    }
   ],
   "source": [
    "data_path = '../capture/ur_capture'\n",
    "print(os.listdir(data_path))"
   ]
  },
  {
   "cell_type": "code",
   "execution_count": 11,
   "metadata": {},
   "outputs": [],
   "source": [
    "awake_data    = data_path  + \"/awake/\"\n",
    "drowsy_data    = data_path  + \"/drowsy/\""
   ]
  },
  {
   "cell_type": "code",
   "execution_count": 13,
   "metadata": {},
   "outputs": [],
   "source": [
    "\n",
    "awake_files = fnmatch.filter(os.listdir(awake_data), '*.jpg')\n",
    "awake_images = load_file(folder_name=awake_data, file_names = awake_files)\n",
    "awake_labels = [0 for items in awake_images]"
   ]
  },
  {
   "cell_type": "code",
   "execution_count": 15,
   "metadata": {},
   "outputs": [],
   "source": [
    "drowsy_files = fnmatch.filter(os.listdir(drowsy_data), '*.jpg')\n",
    "drowsy_images = load_file(folder_name=drowsy_data, file_names = drowsy_files)\n",
    "drowsy_labels = [0 for items in drowsy_images]"
   ]
  },
  {
   "cell_type": "code",
   "execution_count": 17,
   "metadata": {},
   "outputs": [
    {
     "name": "stdout",
     "output_type": "stream",
     "text": [
      "['../capture/ur_capture/drowsy/drowsy.021b6261-6f9c-11ed-9323-fc4482a2ef62.jpg', '../capture/ur_capture/drowsy/drowsy.023d1444-6f34-11ed-aa3d-ac05f5a81f7c.jpg', '../capture/ur_capture/drowsy/drowsy.07a8d072-6f34-11ed-98f7-ac05f5a81f7c.jpg', '../capture/ur_capture/drowsy/drowsy.09e67502-6f34-11ed-80ba-ac05f5a81f7c.jpg', '../capture/ur_capture/drowsy/drowsy.0bd75c69-6f34-11ed-8f0e-ac05f5a81f7c.jpg', '../capture/ur_capture/drowsy/drowsy.17f07cce-6f9b-11ed-8cfa-fc4482a2ef62.jpg', '../capture/ur_capture/drowsy/drowsy.1b57e6fc-6f9b-11ed-a7fc-fc4482a2ef62.jpg', '../capture/ur_capture/drowsy/drowsy.216929ed-748b-11ed-967e-c4d0725245cc.jpg', '../capture/ur_capture/drowsy/drowsy.23135bba-748b-11ed-8458-c4d0725245cc.jpg', '../capture/ur_capture/drowsy/drowsy.25acfec1-748b-11ed-8042-c4d0725245cc.jpg', '../capture/ur_capture/drowsy/drowsy.26b3fc04-748b-11ed-9878-c4d0725245cc.jpg', '../capture/ur_capture/drowsy/drowsy.29761429-748b-11ed-800c-c4d0725245cc.jpg', '../capture/ur_capture/drowsy/drowsy.2b6606a6-6f9a-11ed-a0e2-fc4482a2ef62.jpg', '../capture/ur_capture/drowsy/drowsy.2e9cf42b-748b-11ed-8f6f-c4d0725245cc.jpg', '../capture/ur_capture/drowsy/drowsy.2fc1832b-748b-11ed-a186-c4d0725245cc.jpg', '../capture/ur_capture/drowsy/drowsy.30bd6776-748b-11ed-9f42-c4d0725245cc.jpg', '../capture/ur_capture/drowsy/drowsy.31cd2919-748b-11ed-b1b4-c4d0725245cc.jpg', '../capture/ur_capture/drowsy/drowsy.32859a51-6f9c-11ed-84a8-fc4482a2ef62.jpg', '../capture/ur_capture/drowsy/drowsy.32f8eeec-6f97-11ed-90e7-fc4482a2ef62.jpg', '../capture/ur_capture/drowsy/drowsy.348fe555-748b-11ed-9fc0-c4d0725245cc.jpg', '../capture/ur_capture/drowsy/drowsy.34dcad33-6bb2-11ed-9ce1-fc4482a2ef62.jpg', '../capture/ur_capture/drowsy/drowsy.3c9a441c-6f34-11ed-b11e-ac05f5a81f7c.jpg', '../capture/ur_capture/drowsy/drowsy.415e3df8-6f34-11ed-aa70-ac05f5a81f7c.jpg', '../capture/ur_capture/drowsy/drowsy.4aed86eb-6f34-11ed-9260-ac05f5a81f7c.jpg', '../capture/ur_capture/drowsy/drowsy.4ef0cb4d-6f9a-11ed-a054-fc4482a2ef62.jpg', '../capture/ur_capture/drowsy/drowsy.53478ca3-6f9a-11ed-86a5-fc4482a2ef62.jpg', '../capture/ur_capture/drowsy/drowsy.5348a3ad-6f34-11ed-a307-ac05f5a81f7c.jpg', '../capture/ur_capture/drowsy/drowsy.5594e6d3-6f34-11ed-b00b-ac05f5a81f7c.jpg', '../capture/ur_capture/drowsy/drowsy.5672737a-6f9c-11ed-8d47-fc4482a2ef62.jpg', '../capture/ur_capture/drowsy/drowsy.63b4814d-6bb2-11ed-936d-fc4482a2ef62.jpg', '../capture/ur_capture/drowsy/drowsy.66b2abea-6f9c-11ed-8c6a-fc4482a2ef62.jpg', '../capture/ur_capture/drowsy/drowsy.692bb6cd-6bb2-11ed-a063-fc4482a2ef62.jpg', '../capture/ur_capture/drowsy/drowsy.6c5d232e-6bb2-11ed-b017-fc4482a2ef62.jpg', '../capture/ur_capture/drowsy/drowsy.72c61334-748a-11ed-bb8f-c4d0725245cc.jpg', '../capture/ur_capture/drowsy/drowsy.7462cb2f-748a-11ed-b6e0-c4d0725245cc.jpg', '../capture/ur_capture/drowsy/drowsy.75524c3c-748a-11ed-bf99-c4d0725245cc.jpg', '../capture/ur_capture/drowsy/drowsy.764de466-748a-11ed-bfac-c4d0725245cc.jpg', '../capture/ur_capture/drowsy/drowsy.7787e2b1-748a-11ed-905a-c4d0725245cc.jpg', '../capture/ur_capture/drowsy/drowsy.7995a05a-6f34-11ed-ac96-ac05f5a81f7c.jpg', '../capture/ur_capture/drowsy/drowsy.7e340b90-6f34-11ed-8d61-ac05f5a81f7c.jpg', '../capture/ur_capture/drowsy/drowsy.815b2e6d-7489-11ed-abd0-c4d0725245cc.jpg', '../capture/ur_capture/drowsy/drowsy.834de0ee-6f34-11ed-abd8-ac05f5a81f7c.jpg', '../capture/ur_capture/drowsy/drowsy.858db984-6f34-11ed-8741-ac05f5a81f7c.jpg', '../capture/ur_capture/drowsy/drowsy.87171505-7489-11ed-91ba-c4d0725245cc.jpg', '../capture/ur_capture/drowsy/drowsy.8b1bc29f-6f34-11ed-9014-ac05f5a81f7c.jpg', '../capture/ur_capture/drowsy/drowsy.8b6680ef-7489-11ed-a742-c4d0725245cc.jpg', '../capture/ur_capture/drowsy/drowsy.8e1691c4-748a-11ed-b441-c4d0725245cc.jpg', '../capture/ur_capture/drowsy/drowsy.8ef2b570-748a-11ed-af10-c4d0725245cc.jpg', '../capture/ur_capture/drowsy/drowsy.90048627-748a-11ed-bc15-c4d0725245cc.jpg', '../capture/ur_capture/drowsy/drowsy.921dd37e-748a-11ed-bf58-c4d0725245cc.jpg', '../capture/ur_capture/drowsy/drowsy.9257e7e7-7489-11ed-bd17-c4d0725245cc.jpg', '../capture/ur_capture/drowsy/drowsy.930751d6-748a-11ed-9c72-c4d0725245cc.jpg', '../capture/ur_capture/drowsy/drowsy.943944bc-6f9a-11ed-bc7e-fc4482a2ef62.jpg', '../capture/ur_capture/drowsy/drowsy.987adfb7-7489-11ed-b590-c4d0725245cc.jpg', '../capture/ur_capture/drowsy/drowsy.99de83f3-6f9a-11ed-8bab-fc4482a2ef62.jpg', '../capture/ur_capture/drowsy/drowsy.9cf5501b-6f9b-11ed-bd85-fc4482a2ef62.jpg', '../capture/ur_capture/drowsy/drowsy.a1a3f23d-6f9b-11ed-bf00-fc4482a2ef62.jpg', '../capture/ur_capture/drowsy/drowsy.a53c0186-6f9b-11ed-b9b3-fc4482a2ef62.jpg', '../capture/ur_capture/drowsy/drowsy.a89a5977-6f9b-11ed-a1a9-fc4482a2ef62.jpg', '../capture/ur_capture/drowsy/drowsy.ab49675a-6f9b-11ed-a4bc-fc4482a2ef62.jpg', '../capture/ur_capture/drowsy/drowsy.ac1b6ffd-6f99-11ed-a4f1-fc4482a2ef62.jpg', '../capture/ur_capture/drowsy/drowsy.b35c1151-6f9b-11ed-9abd-fc4482a2ef62.jpg', '../capture/ur_capture/drowsy/drowsy.b4957ca0-6f99-11ed-ae53-fc4482a2ef62.jpg', '../capture/ur_capture/drowsy/drowsy.b5b5b1d3-7489-11ed-8004-c4d0725245cc.jpg', '../capture/ur_capture/drowsy/drowsy.ba9bddca-6f97-11ed-bc1d-fc4482a2ef62.jpg', '../capture/ur_capture/drowsy/drowsy.bb9d7ca0-6bb2-11ed-811f-fc4482a2ef62.jpg', '../capture/ur_capture/drowsy/drowsy.bca115a4-6f9b-11ed-a6ee-fc4482a2ef62.jpg', '../capture/ur_capture/drowsy/drowsy.be90c6b1-6f9b-11ed-8230-fc4482a2ef62.jpg', '../capture/ur_capture/drowsy/drowsy.bed079bc-6f97-11ed-99a3-fc4482a2ef62.jpg', '../capture/ur_capture/drowsy/drowsy.c003e70c-6f9b-11ed-94a1-fc4482a2ef62.jpg', '../capture/ur_capture/drowsy/drowsy.c2131375-7489-11ed-9b27-c4d0725245cc.jpg', '../capture/ur_capture/drowsy/drowsy.c3e34b05-6f97-11ed-998b-fc4482a2ef62.jpg', '../capture/ur_capture/drowsy/drowsy.c4384f69-6f9b-11ed-b86a-fc4482a2ef62.jpg', '../capture/ur_capture/drowsy/drowsy.c846fab9-6f9a-11ed-af0a-fc4482a2ef62.jpg', '../capture/ur_capture/drowsy/drowsy.c9d6fa5f-7489-11ed-954b-c4d0725245cc.jpg', '../capture/ur_capture/drowsy/drowsy.d02ead05-6bb1-11ed-a540-fc4482a2ef62.jpg', '../capture/ur_capture/drowsy/drowsy.d48daa9d-6bb1-11ed-8b94-fc4482a2ef62.jpg', '../capture/ur_capture/drowsy/drowsy.d5cda019-6f33-11ed-b754-ac05f5a81f7c.jpg', '../capture/ur_capture/drowsy/drowsy.d7dbd209-7489-11ed-a6e1-c4d0725245cc.jpg', '../capture/ur_capture/drowsy/drowsy.d890daa3-6f33-11ed-913b-ac05f5a81f7c.jpg', '../capture/ur_capture/drowsy/drowsy.d9eeeff8-6bb2-11ed-94e0-fc4482a2ef62.jpg', '../capture/ur_capture/drowsy/drowsy.da2f5b6e-6f97-11ed-a064-fc4482a2ef62.jpg', '../capture/ur_capture/drowsy/drowsy.dda38bd3-6f33-11ed-a697-ac05f5a81f7c.jpg', '../capture/ur_capture/drowsy/drowsy.e23caefd-6f33-11ed-b753-ac05f5a81f7c.jpg', '../capture/ur_capture/drowsy/drowsy.e2933bbf-7489-11ed-872c-c4d0725245cc.jpg', '../capture/ur_capture/drowsy/drowsy.e32ff41b-6bb1-11ed-9a56-fc4482a2ef62.jpg', '../capture/ur_capture/drowsy/drowsy.f7c14b91-6f33-11ed-a32f-ac05f5a81f7c.jpg', '../capture/ur_capture/drowsy/drowsy.f7def662-6f9b-11ed-aa8a-fc4482a2ef62.jpg', '../capture/ur_capture/drowsy/drowsy.f9162747-6bb1-11ed-aebe-fc4482a2ef62.jpg']\n"
     ]
    }
   ],
   "source": []
  },
  {
   "cell_type": "code",
   "execution_count": null,
   "metadata": {},
   "outputs": [],
   "source": [
    "x_data = .concatenate((awake_images, ))\n",
    "\n",
    "y_data = np.concatenate((happy_labels, sad_labels, anger_labels, fear_labels, disgust_labels))\n",
    "\n",
    "print (\"combined training data record: \",len(y_data))"
   ]
  }
 ],
 "metadata": {
  "kernelspec": {
   "display_name": "Python 3.9.13 ('tf')",
   "language": "python",
   "name": "python3"
  },
  "language_info": {
   "codemirror_mode": {
    "name": "ipython",
    "version": 3
   },
   "file_extension": ".py",
   "mimetype": "text/x-python",
   "name": "python",
   "nbconvert_exporter": "python",
   "pygments_lexer": "ipython3",
   "version": "3.9.13 (main, Oct 13 2022, 21:23:06) [MSC v.1916 64 bit (AMD64)]"
  },
  "orig_nbformat": 4,
  "vscode": {
   "interpreter": {
    "hash": "09700742a044b920071f18ec5cd28b1f49ea7eb98cb59709aa422d3e5ec09539"
   }
  }
 },
 "nbformat": 4,
 "nbformat_minor": 2
}
