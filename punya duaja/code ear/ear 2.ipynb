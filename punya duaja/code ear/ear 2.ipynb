{
 "cells": [
  {
   "cell_type": "markdown",
   "metadata": {},
   "source": [
    "https://medium.com/analytics-vidhya/eye-aspect-ratio-ear-and-drowsiness-detector-using-dlib-a0b2c292d706"
   ]
  },
  {
   "cell_type": "markdown",
   "metadata": {},
   "source": [
    "download: https://github.com/davisking/dlib-models/blob/master/shape_predictor_68_face_landmarks.dat.bz2"
   ]
  },
  {
   "cell_type": "code",
   "execution_count": 8,
   "metadata": {},
   "outputs": [
    {
     "data": {
      "text/plain": [
       "-1"
      ]
     },
     "execution_count": 8,
     "metadata": {},
     "output_type": "execute_result"
    }
   ],
   "source": [
    "import cv2\n",
    "import dlib\n",
    "import imutils\n",
    "from imutils import face_utils\n",
    "from scipy.spatial import distance as dist\n",
    "\n",
    "#Global Configuration Variables\n",
    "FACIAL_LANDMARK_PREDICTOR = \"shape_predictor_68_face_landmarks.dat\"  # path to dlib's pre-trained facial landmark predictor\n",
    "MINIMUM_EAR = 0.2    # Minimum EAR for both the eyes to mark the eyes as open\n",
    "\n",
    "\n",
    "#Initializations\n",
    "faceDetector = dlib.get_frontal_face_detector()     # dlib's HOG based face detector\n",
    "landmarkFinder = dlib.shape_predictor(FACIAL_LANDMARK_PREDICTOR)  # dlib's landmark finder/predcitor inside detected face\n",
    "\n",
    "# Finding landmark id for left and right eyes\n",
    "(leftEyeStart, leftEyeEnd) = face_utils.FACIAL_LANDMARKS_IDXS[\"left_eye\"]\n",
    "(rightEyeStart, rightEyeEnd) = face_utils.FACIAL_LANDMARKS_IDXS[\"right_eye\"]\n",
    "\n",
    "\n",
    "\n",
    "def eye_aspect_ratio(eye):\n",
    "    p2_minus_p6 = dist.euclidean(eye[1], eye[5])\n",
    "    p3_minus_p5 = dist.euclidean(eye[2], eye[4])\n",
    "    p1_minus_p4 = dist.euclidean(eye[0], eye[3])\n",
    "    ear = (p2_minus_p6 + p3_minus_p5) / (2.0 * p1_minus_p4)\n",
    "    return ear\n",
    "\n",
    "\n",
    "# image = cv2.imread(\"2.jpg\")\n",
    "image = cv2.imread(\"C:/Users/ACER/OneDrive - Universitas Airlangga/KULIAH/semester 5/bbb data mining/final_project/final-project-datmin2/images/awake/awake.02b99423-69a7-11ed-b9ef-7c10c985ec77.jpg\")\n",
    "# image = cv2.imread(\"capture/ur_capture/drowsy/drowsy.d48daa9d-6bb1-11ed-8b94-fc4482a2ef62.jpg\")[:, :, ::-1]\n",
    "\n",
    "image = imutils.resize(image, width=800)\n",
    "grayImage = cv2.cvtColor(image, cv2.COLOR_BGR2GRAY)\n",
    "\n",
    "faces = faceDetector(grayImage, 0)\n",
    "\n",
    "for face in faces:\n",
    "    faceLandmarks = landmarkFinder(grayImage, face)\n",
    "    faceLandmarks = face_utils.shape_to_np(faceLandmarks)\n",
    "\n",
    "    leftEye = faceLandmarks[leftEyeStart:leftEyeEnd]\n",
    "    rightEye = faceLandmarks[rightEyeStart:rightEyeEnd]\n",
    "\n",
    "    leftEAR = eye_aspect_ratio(leftEye)\n",
    "    rightEAR = eye_aspect_ratio(rightEye)\n",
    "\n",
    "    ear = (leftEAR + rightEAR) / 2.0\n",
    "\n",
    "    leftEyeHull = cv2.convexHull(leftEye)\n",
    "    rightEyeHull = cv2.convexHull(rightEye)\n",
    "\n",
    "    cv2.drawContours(image, [leftEyeHull], -1, (255, 0, 0), 2)\n",
    "    cv2.drawContours(image, [rightEyeHull], -1, (255, 0, 0), 2)\n",
    "\n",
    "    cv2.putText(image, \"EAR: {}\".format(round(ear, 1)), (10, 30), cv2.FONT_HERSHEY_SIMPLEX, 0.7, (0, 0, 255), 2)\n",
    "\n",
    "    if ear < MINIMUM_EAR:\n",
    "        cv2.putText(image, \"Drowsiness\", (10, 50), cv2.FONT_HERSHEY_SIMPLEX, 0.7, (0, 0, 255), 2)\n",
    "\n",
    "cv2.imshow(\"Frame\", image)\n",
    "cv2.waitKey(0)"
   ]
  }
 ],
 "metadata": {
  "kernelspec": {
   "display_name": "Python 3 (ipykernel)",
   "language": "python",
   "name": "python3"
  },
  "language_info": {
   "codemirror_mode": {
    "name": "ipython",
    "version": 3
   },
   "file_extension": ".py",
   "mimetype": "text/x-python",
   "name": "python",
   "nbconvert_exporter": "python",
   "pygments_lexer": "ipython3",
   "version": "3.8.5"
  }
 },
 "nbformat": 4,
 "nbformat_minor": 4
}
