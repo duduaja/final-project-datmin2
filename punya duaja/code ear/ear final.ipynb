{
 "cells": [
  {
   "cell_type": "code",
   "execution_count": 49,
   "id": "c3fce35f",
   "metadata": {},
   "outputs": [],
   "source": [
    "import glob\n",
    "import cv2\n",
    "import numpy as np\n",
    "import matplotlib.pyplot as plt\n"
   ]
  },
  {
   "cell_type": "code",
   "execution_count": 53,
   "id": "57ab7981",
   "metadata": {},
   "outputs": [],
   "source": [
    "def load_img_folder(path):\n",
    "    lst = []\n",
    "    for img in glob.glob(path+'*.jpg'):\n",
    "        n= plt.imread(img)\n",
    "        lst.append(n)\n",
    "    return np.array(lst)\n",
    "\n",
    "# awake_img = np.array(awake_img)"
   ]
  },
  {
   "cell_type": "code",
   "execution_count": 54,
   "id": "ecd9add2",
   "metadata": {},
   "outputs": [],
   "source": [
    "# awake_path = \"C:/Users/ACER/OneDrive - Universitas Airlangga/KULIAH/semester 5/bbb data mining/final_project/final-project-datmin2/images/awake/awake\"\n",
    "# drowsy_path = \"C:/Users/ACER/OneDrive - Universitas Airlangga/KULIAH/semester 5/bbb data mining/final_project/final-project-datmin2/images/drowsy/drowsy\"\n",
    "awake_path = \"/images/awake/awake\"\n",
    "drowsy_path = \"/images/drowsy/drowsy\"\n",
    "awake_img = load_img_folder(awake_path)\n",
    "drowsy_img = load_img_folder(drowsy_path)"
   ]
  },
  {
   "cell_type": "code",
   "execution_count": 55,
   "id": "719bef89",
   "metadata": {},
   "outputs": [
    {
     "data": {
      "text/plain": [
       "(480, 640, 3)"
      ]
     },
     "execution_count": 55,
     "metadata": {},
     "output_type": "execute_result"
    }
   ],
   "source": [
    "awake_img[0].shape"
   ]
  },
  {
   "cell_type": "code",
   "execution_count": 56,
   "id": "578790a9",
   "metadata": {},
   "outputs": [
    {
     "data": {
      "text/plain": [
       "(64, 480, 640, 3)"
      ]
     },
     "execution_count": 56,
     "metadata": {},
     "output_type": "execute_result"
    }
   ],
   "source": [
    "drowsy_img.shape"
   ]
  },
  {
   "cell_type": "code",
   "execution_count": 45,
   "id": "96ab4a7a",
   "metadata": {},
   "outputs": [],
   "source": [
    "import cv2\n",
    "import numpy as np\n",
    "import matplotlib.pyplot as plt\n",
    "import mediapipe as mp\n",
    "\n",
    "mp_facemesh = mp.solutions.face_mesh\n",
    "mp_drawing  = mp.solutions.drawing_utils\n",
    "denormalize_coordinates = mp_drawing._normalized_to_pixel_coordinates\n",
    "\n",
    "%matplotlib inline\n",
    "\n",
    "# Landmark points corresponding to left eye\n",
    "all_left_eye_idxs = list(mp_facemesh.FACEMESH_LEFT_EYE)\n",
    "# flatten and remove duplicates\n",
    "all_left_eye_idxs = set(np.ravel(all_left_eye_idxs)) \n",
    "\n",
    "# Landmark points corresponding to right eye\n",
    "all_right_eye_idxs = list(mp_facemesh.FACEMESH_RIGHT_EYE)\n",
    "all_right_eye_idxs = set(np.ravel(all_right_eye_idxs))\n",
    "\n",
    "# Combined for plotting - Landmark points for both eye\n",
    "all_idxs = all_left_eye_idxs.union(all_right_eye_idxs)\n",
    "\n",
    "# The chosen 12 points:   P1,  P2,  P3,  P4,  P5,  P6\n",
    "chosen_left_eye_idxs  = [362, 385, 387, 263, 373, 380]\n",
    "chosen_right_eye_idxs = [33,  160, 158, 133, 153, 144]\n",
    "all_chosen_idxs = chosen_left_eye_idxs + chosen_right_eye_idxs\n",
    "\n"
   ]
  },
  {
   "cell_type": "code",
   "execution_count": 46,
   "id": "e07e3823",
   "metadata": {},
   "outputs": [],
   "source": [
    "def distance(point_1, point_2):\n",
    "    \"\"\"Calculate l2-norm between two points\"\"\"\n",
    "    dist = sum([(i - j) ** 2 for i, j in zip(point_1, point_2)]) ** 0.5\n",
    "    return dist\n",
    "\n",
    "def get_ear(landmarks, refer_idxs, frame_width, frame_height):\n",
    "    \"\"\"\n",
    "    Calculate Eye Aspect Ratio for one eye.\n",
    "\n",
    "    Args:\n",
    "        landmarks: (list) Detected landmarks list\n",
    "        refer_idxs: (list) Index positions of the chosen landmarks\n",
    "                            in order P1, P2, P3, P4, P5, P6\n",
    "        frame_width: (int) Width of captured frame\n",
    "        frame_height: (int) Height of captured frame\n",
    "\n",
    "    Returns:\n",
    "        ear: (float) Eye aspect ratio\n",
    "    \"\"\"\n",
    "    try:\n",
    "        # Compute the euclidean distance between the horizontal\n",
    "        coords_points = []\n",
    "        for i in refer_idxs:\n",
    "            lm = landmarks[i]\n",
    "            coord = denormalize_coordinates(lm.x, lm.y, \n",
    "                                             frame_width, frame_height)\n",
    "            coords_points.append(coord)\n",
    "\n",
    "        # Eye landmark (x, y)-coordinates\n",
    "        P2_P6 = distance(coords_points[1], coords_points[5])\n",
    "        P3_P5 = distance(coords_points[2], coords_points[4])\n",
    "        P1_P4 = distance(coords_points[0], coords_points[3])\n",
    "\n",
    "        # Compute the eye aspect ratio\n",
    "        ear = (P2_P6 + P3_P5) / (2.0 * P1_P4)\n",
    "\n",
    "    except:\n",
    "        ear = 0.0\n",
    "        coords_points = None\n",
    "\n",
    "    return ear, coords_points\n",
    "\n",
    "def calculate_avg_ear(landmarks, left_eye_idxs, right_eye_idxs, image_w, image_h):\n",
    "    \"\"\"Calculate Eye aspect ratio\"\"\"\n",
    "\n",
    "    left_ear, left_lm_coordinates = get_ear(\n",
    "                                      landmarks, \n",
    "                                      left_eye_idxs, \n",
    "                                      image_w, \n",
    "                                      image_h\n",
    "                                    )\n",
    "    right_ear, right_lm_coordinates = get_ear(\n",
    "                                      landmarks, \n",
    "                                      right_eye_idxs, \n",
    "                                      image_w, \n",
    "                                      image_h\n",
    "                                    )\n",
    "    Avg_EAR = (left_ear + right_ear) / 2.0\n",
    "\n",
    "    return Avg_EAR, (left_lm_coordinates, right_lm_coordinates)"
   ]
  },
  {
   "cell_type": "code",
   "execution_count": 47,
   "id": "d5f1a8cf",
   "metadata": {},
   "outputs": [],
   "source": [
    "def final_ear(img_read, ear_thresh=0.2):\n",
    "    image = np.ascontiguousarray(img_read)\n",
    "    imgH, imgW, _ = image.shape\n",
    "    custom_chosen_lmk_image = image.copy()\n",
    "    \n",
    "    with mp_facemesh.FaceMesh(refine_landmarks=True) as face_mesh:\n",
    "        results = face_mesh.process(image).multi_face_landmarks\n",
    "        \n",
    "        if results:\n",
    "            for face_id, face_landmarks in enumerate(results):\n",
    "                landmarks = face_landmarks.landmark\n",
    "                EAR, _ = calculate_avg_ear(\n",
    "                          landmarks, \n",
    "                          chosen_left_eye_idxs, \n",
    "                          chosen_right_eye_idxs, \n",
    "                          imgW, \n",
    "                          imgH\n",
    "                      )\n",
    "                if EAR < ear_thresh:\n",
    "                    return [EAR, 'drowsy']\n",
    "                elif EAR >= ear_thresh:\n",
    "                    return [EAR, 'awake']\n",
    "#                 return EAR"
   ]
  },
  {
   "cell_type": "code",
   "execution_count": 48,
   "id": "7f02cca8",
   "metadata": {},
   "outputs": [
    {
     "data": {
      "text/plain": [
       "[0.2889321569003031, 'awake']"
      ]
     },
     "execution_count": 48,
     "metadata": {},
     "output_type": "execute_result"
    }
   ],
   "source": [
    "final_ear(awake_img[0])"
   ]
  }
 ],
 "metadata": {
  "kernelspec": {
   "display_name": "Python 3 (ipykernel)",
   "language": "python",
   "name": "python3"
  },
  "language_info": {
   "codemirror_mode": {
    "name": "ipython",
    "version": 3
   },
   "file_extension": ".py",
   "mimetype": "text/x-python",
   "name": "python",
   "nbconvert_exporter": "python",
   "pygments_lexer": "ipython3",
   "version": "3.8.5"
  }
 },
 "nbformat": 4,
 "nbformat_minor": 5
}
