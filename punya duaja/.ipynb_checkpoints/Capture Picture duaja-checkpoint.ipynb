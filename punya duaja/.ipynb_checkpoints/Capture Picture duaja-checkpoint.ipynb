{
 "cells": [
  {
   "cell_type": "code",
   "execution_count": 19,
   "metadata": {},
   "outputs": [],
   "source": [
    "def input_label():\n",
    "    in_label = str(input('press A for awake \\npress D for drownsy \\n'))\n",
    "    in_label = in_label.lower()\n",
    "    if in_label == 'a':\n",
    "        return 'awake'\n",
    "    elif in_label == 'd' or 'drownsy':\n",
    "        return 'drownsy'\n",
    "    else:\n",
    "        mess = 'masukin label yang bener'\n",
    "        return mess \n",
    "\n"
   ]
  },
  {
   "cell_type": "code",
   "execution_count": 34,
   "metadata": {},
   "outputs": [],
   "source": [
    "import cv2\n",
    "import uuid   # Unique identifier\n",
    "import os\n",
    "import time\n",
    "IMAGES_PATH = os.path.join('data', 'test_capture')\n",
    "\n",
    "def capture(label):\n",
    "    cam = cv2.VideoCapture(0)\n",
    "\n",
    "    img_counter = 0\n",
    "    print('ready to capture ur picture.... \\npress space for capture \\npress esc for escape')\n",
    "\n",
    "    while True:\n",
    "        ret, frame = cam.read()\n",
    "        if not ret:\n",
    "            print(\"failed to grab frame\")\n",
    "            break\n",
    "        name_window = label.upper()\n",
    "        cv2.imshow(name_window, frame)\n",
    "\n",
    "        k = cv2.waitKey(1)\n",
    "        if k%256 == 27:\n",
    "            # ESC pressed\n",
    "            print(\"Escape hit, closing...\")\n",
    "            break\n",
    "        elif k%256 == 32:\n",
    "            # SPACE pressed\n",
    "    #         img_name = \"opencv_frame_{}.png\".format(img_counter)\n",
    "            img_name = os.path.join(IMAGES_PATH, label+'.'+str(uuid.uuid1())+'.jpg')\n",
    "            cv2.imwrite(img_name, frame)\n",
    "#             print(\"{} written!\".format(img_name))\n",
    "        \n",
    "            img_counter += 1\n",
    "            print('Collecting images for {}, image number {}'.format(label, img_counter))\n",
    "\n",
    "    cam.release()\n",
    "\n",
    "    cv2.destroyAllWindows()"
   ]
  },
  {
   "cell_type": "code",
   "execution_count": 35,
   "metadata": {},
   "outputs": [
    {
     "name": "stdout",
     "output_type": "stream",
     "text": [
      "press A for awake \n",
      "press D for drownsy \n",
      "a\n",
      "ready to capture ur picture.... \n",
      "press space for capture \n",
      "press esc for escape\n",
      "Collecting images for awake, image number 1\n",
      "Collecting images for awake, image number 2\n",
      "Escape hit, closing...\n"
     ]
    }
   ],
   "source": [
    "# input_label()\n",
    "capture(input_label())"
   ]
  }
 ],
 "metadata": {
  "kernelspec": {
   "display_name": "Python 3",
   "language": "python",
   "name": "python3"
  },
  "language_info": {
   "codemirror_mode": {
    "name": "ipython",
    "version": 3
   },
   "file_extension": ".py",
   "mimetype": "text/x-python",
   "name": "python",
   "nbconvert_exporter": "python",
   "pygments_lexer": "ipython3",
   "version": "3.8.5"
  }
 },
 "nbformat": 4,
 "nbformat_minor": 5
}
